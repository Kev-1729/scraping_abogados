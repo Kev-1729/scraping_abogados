{
  "nbformat": 4,
  "nbformat_minor": 0,
  "metadata": {
    "colab": {
      "provenance": []
    },
    "kernelspec": {
      "name": "python3",
      "display_name": "Python 3"
    },
    "language_info": {
      "name": "python"
    }
  },
  "cells": [
    {
      "cell_type": "code",
      "source": [
        "import requests\n",
        "from bs4 import BeautifulSoup\n",
        "\n",
        "url = f\"https://apps4.mineco.gob.pe/ServiciosTF/Sumilla.htm?valor={2021005406}\"\n",
        "headers = {\n",
        "    \"accept\": \"text/html,application/xhtml+xml,application/xml;q=0.9,image/avif,image/webp,image/apng,*/*;q=0.8,application/signed-exchange;v=b3;q=0.7\",\n",
        "    \"accept-language\": \"es\",\n",
        "    \"priority\": \"u=0, i\",\n",
        "    # \"sec-ch-ua\": '\"Not(A:Brand\";v=\"99\", \"Microsoft Edge\";v=\"133\", \"Chromium\";v=\"133\"',\n",
        "    # \"sec-ch-ua-mobile\": \"?0\",\n",
        "    # \"sec-ch-ua-platform\": \"Windows\",\n",
        "    # \"sec-fetch-dest\": \"document\",\n",
        "    # \"sec-fetch-mode\": \"navigate\",\n",
        "    # \"sec-fetch-site\": \"none\",\n",
        "    # \"sec-fetch-user\": \"?1\",\n",
        "    \"upgrade-insecure-requests\": \"1\",\n",
        "    \"user-agent\": \"Mozilla/5.0 (Windows NT 10.0; Win64; x64) AppleWebKit/537.36 (KHTML, like Gecko) Chrome/133.0.0.0 Safari/537.36 Edg/133.0.0.0\"\n",
        "}\n",
        "\n",
        "response = requests.get(url, headers=headers)\n",
        "soup = BeautifulSoup(response.text, \"html.parser\")\n",
        "\n",
        "# Extraer solo el texto sin HTML\n",
        "text_content = soup.get_text(separator=\"\\n\", strip=True)\n",
        "print(text_content)\n"
      ],
      "metadata": {
        "colab": {
          "base_uri": "https://localhost:8080/"
        },
        "id": "xDheC5ZxrDxA",
        "outputId": "10a69c70-df1c-419a-cf98-6074d9fea7d1"
      },
      "execution_count": null,
      "outputs": [
        {
          "output_type": "stream",
          "name": "stdout",
          "text": [
            "Tribunal Fiscal - Sumilla\n",
            "Sumilla RTF:05406-1-2021\n",
            "Se revoca la apelada que declaró infundada la reclamación formulada contra las Resoluciones de Determinación emitidas por Impuesto a la Renta del ejercicio 2014, pagos a cuenta de enero a diciembre de 2014 y las Resoluciones de Multa giradas por la infracción tipificada en el numeral 1 del artículo 178 del Código Tributario, en el extremo del reparo por Gastos no devengados en el ejercicio 2014 por servicios de consultoría y gestión en aplicaciones respecto del Invoice 40039298, pues en dicho caso, respecto de  los servicios de consultoría y gestión en aplicaciones calculados sobre la base de los montos facturados por la recurrente durante los meses de enero y febrero de 2014, no obra en el expediente documentación alguna que acredite que tales servicios efectivamente fueron prestados en el 2013 y por tanto habrían devengado en dicho ejercicio y no en el 2014, por lo que la acotación de la Administración en este extremo carece de sustento. Se confirma en lo demás que contiene al verificarse que los demás gastos observados devengaron en un ejercicio diferente al acotado y que en el caso de las observaciones por gastos no sustentados, la recurrente no presentó medios probatorios suficientes que acreditaran fehacientemente los gastos observados.\n"
          ]
        }
      ]
    },
    {
      "cell_type": "code",
      "source": [
        "import requests\n",
        "import re\n",
        "from bs4 import BeautifulSoup\n",
        "\n",
        "url = 'https://apps4.mineco.gob.pe/ServiciosTF/nuevo_ContenidoAvanzado.htm'\n",
        "params = {\n",
        "    'Buscar': 'navegator',\n",
        "    'count': '50',\n",
        "    'filtroFecha': 'off',\n",
        "    'fechaBegin': '01/01/1964',\n",
        "    'fechaEnd': '01/01/2007',\n",
        "    'todas': 'articulo 1',\n",
        "    'exacta': 'nulidad',\n",
        "    'algunas': '',\n",
        "    'sin': '',\n",
        "    'cerca': '',\n",
        "    'max': '20',\n",
        "    'rtfSumilla': '1',\n",
        "    'oper': ''\n",
        "}\n",
        "\n",
        "headers = {\n",
        "    'user-agent': 'Mozilla/5.0 (Windows NT 10.0; Win64; x64) AppleWebKit/537.36 (KHTML, like Gecko) Chrome/133.0.0.0 Safari/537.36 Edg/133.0.0.0'\n",
        "}\n",
        "\n",
        "# Realizar la solicitud GET\n",
        "response = requests.get(url, params=params, headers=headers)\n",
        "\n",
        "# Parsear el HTML con BeautifulSoup\n",
        "soup = BeautifulSoup(response.text, 'html.parser')\n",
        "\n",
        "# Expresión regular para encontrar los valores dentro de openWindowSumilla('...')\n",
        "pattern = r\"openWindowSumilla\\('(\\d+)'\\)\"\n",
        "\n",
        "# Buscar todos los valores en el HTML\n",
        "matches = re.findall(pattern, str(soup))\n",
        "\n",
        "# Imprimir la lista con los valores encontrados\n",
        "print(matches)"
      ],
      "metadata": {
        "colab": {
          "base_uri": "https://localhost:8080/"
        },
        "id": "O8MKrAC_u62A",
        "outputId": "428565bf-34ab-4996-f5b9-9c54e39680d3"
      },
      "execution_count": null,
      "outputs": [
        {
          "output_type": "stream",
          "name": "stdout",
          "text": [
            "['2023006278', '2024001974', '2024004953', '2024006583', '2024005316']\n"
          ]
        }
      ]
    }
  ]
}